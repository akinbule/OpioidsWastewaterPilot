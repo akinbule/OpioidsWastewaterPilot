{
 "cells": [
  {
   "cell_type": "markdown",
   "metadata": {},
   "source": [
    "### EMS Logit - Cincinatti "
   ]
  },
  {
   "cell_type": "markdown",
   "metadata": {},
   "source": [
    "#### Load Packages"
   ]
  },
  {
   "cell_type": "code",
   "execution_count": 1,
   "metadata": {},
   "outputs": [],
   "source": [
    "import os\n",
    "import pandas as pd \n",
    "import numpy as np \n",
    "import geopandas as gpd \n",
    "import matplotlib.pyplot as plt \n",
    "import seaborn as sns \n",
    "from sodapy import Socrata \n",
    "import statsmodels.api as sm\n",
    "import statsmodels.formula.api as smf\n",
    "import patsy "
   ]
  },
  {
   "cell_type": "code",
   "execution_count": 2,
   "metadata": {},
   "outputs": [
    {
     "data": {
      "text/plain": [
       "'/Users/drewgobbi'"
      ]
     },
     "execution_count": 2,
     "metadata": {},
     "output_type": "execute_result"
    }
   ],
   "source": [
    "os.getcwd()"
   ]
  },
  {
   "cell_type": "code",
   "execution_count": 3,
   "metadata": {},
   "outputs": [],
   "source": [
    "os.chdir('/Users/drewgobbi/Downloads')"
   ]
  },
  {
   "cell_type": "code",
   "execution_count": 4,
   "metadata": {},
   "outputs": [],
   "source": [
    "import pickle "
   ]
  },
  {
   "cell_type": "code",
   "execution_count": 1,
   "metadata": {},
   "outputs": [
    {
     "ename": "NameError",
     "evalue": "name 'pickle' is not defined",
     "output_type": "error",
     "traceback": [
      "\u001b[0;31m---------------------------------------------------------------------------\u001b[0m",
      "\u001b[0;31mNameError\u001b[0m                                 Traceback (most recent call last)",
      "\u001b[0;32m<ipython-input-1-af080b1dd960>\u001b[0m in \u001b[0;36m<module>\u001b[0;34m\u001b[0m\n\u001b[1;32m      1\u001b[0m \u001b[0mpkl_in_Cin\u001b[0m \u001b[0;34m=\u001b[0m \u001b[0mopen\u001b[0m\u001b[0;34m(\u001b[0m\u001b[0;34m'countMedicalFacilitiesWithin2milesCinbyTract.pkl'\u001b[0m\u001b[0;34m,\u001b[0m \u001b[0;34m'rb'\u001b[0m\u001b[0;34m)\u001b[0m\u001b[0;34m\u001b[0m\u001b[0;34m\u001b[0m\u001b[0m\n\u001b[1;32m      2\u001b[0m \u001b[0;34m\u001b[0m\u001b[0m\n\u001b[0;32m----> 3\u001b[0;31m \u001b[0mdf\u001b[0m \u001b[0;34m=\u001b[0m \u001b[0mpickle\u001b[0m\u001b[0;34m.\u001b[0m\u001b[0mload\u001b[0m\u001b[0;34m(\u001b[0m\u001b[0mpkl_in_Cin\u001b[0m\u001b[0;34m)\u001b[0m\u001b[0;34m\u001b[0m\u001b[0;34m\u001b[0m\u001b[0m\n\u001b[0m",
      "\u001b[0;31mNameError\u001b[0m: name 'pickle' is not defined"
     ]
    }
   ],
   "source": [
    "pkl_in_Cin = open('countMedicalFacilitiesWithin2milesCinbyTract.pkl', 'rb')\n",
    "\n",
    "df = pickle.load(pkl_in_Cin)"
   ]
  },
  {
   "cell_type": "code",
   "execution_count": 6,
   "metadata": {
    "scrolled": false
   },
   "outputs": [
    {
     "data": {
      "text/html": [
       "<div>\n",
       "<style scoped>\n",
       "    .dataframe tbody tr th:only-of-type {\n",
       "        vertical-align: middle;\n",
       "    }\n",
       "\n",
       "    .dataframe tbody tr th {\n",
       "        vertical-align: top;\n",
       "    }\n",
       "\n",
       "    .dataframe thead th {\n",
       "        text-align: right;\n",
       "    }\n",
       "</style>\n",
       "<table border=\"1\" class=\"dataframe\">\n",
       "  <thead>\n",
       "    <tr style=\"text-align: right;\">\n",
       "      <th></th>\n",
       "      <th>NeighborhoodName</th>\n",
       "      <th>MedFacilitiesCount2mi</th>\n",
       "      <th>PharmCount2mi</th>\n",
       "      <th>DrugDropCount2mi</th>\n",
       "      <th>NaloxoneDistribCount2mi</th>\n",
       "      <th>geometry</th>\n",
       "      <th>year_month</th>\n",
       "      <th>EMS_Calls</th>\n",
       "    </tr>\n",
       "  </thead>\n",
       "  <tbody>\n",
       "    <tr>\n",
       "      <th>0</th>\n",
       "      <td>Avondale</td>\n",
       "      <td>23</td>\n",
       "      <td>6</td>\n",
       "      <td>0</td>\n",
       "      <td>15</td>\n",
       "      <td>POLYGON ((-84.5542808420776 39.1546574773712, ...</td>\n",
       "      <td>2017-05</td>\n",
       "      <td>13</td>\n",
       "    </tr>\n",
       "    <tr>\n",
       "      <th>1</th>\n",
       "      <td>Avondale</td>\n",
       "      <td>23</td>\n",
       "      <td>6</td>\n",
       "      <td>0</td>\n",
       "      <td>15</td>\n",
       "      <td>POLYGON ((-84.5542808420776 39.1546574773712, ...</td>\n",
       "      <td>2017-06</td>\n",
       "      <td>10</td>\n",
       "    </tr>\n",
       "    <tr>\n",
       "      <th>2</th>\n",
       "      <td>Avondale</td>\n",
       "      <td>23</td>\n",
       "      <td>6</td>\n",
       "      <td>0</td>\n",
       "      <td>15</td>\n",
       "      <td>POLYGON ((-84.5542808420776 39.1546574773712, ...</td>\n",
       "      <td>2017-07</td>\n",
       "      <td>4</td>\n",
       "    </tr>\n",
       "    <tr>\n",
       "      <th>3</th>\n",
       "      <td>Avondale</td>\n",
       "      <td>23</td>\n",
       "      <td>6</td>\n",
       "      <td>0</td>\n",
       "      <td>15</td>\n",
       "      <td>POLYGON ((-84.5542808420776 39.1546574773712, ...</td>\n",
       "      <td>2017-08</td>\n",
       "      <td>10</td>\n",
       "    </tr>\n",
       "    <tr>\n",
       "      <th>4</th>\n",
       "      <td>Avondale</td>\n",
       "      <td>23</td>\n",
       "      <td>6</td>\n",
       "      <td>0</td>\n",
       "      <td>15</td>\n",
       "      <td>POLYGON ((-84.5542808420776 39.1546574773712, ...</td>\n",
       "      <td>2017-09</td>\n",
       "      <td>7</td>\n",
       "    </tr>\n",
       "  </tbody>\n",
       "</table>\n",
       "</div>"
      ],
      "text/plain": [
       "  NeighborhoodName  MedFacilitiesCount2mi  PharmCount2mi  DrugDropCount2mi  \\\n",
       "0         Avondale                     23              6                 0   \n",
       "1         Avondale                     23              6                 0   \n",
       "2         Avondale                     23              6                 0   \n",
       "3         Avondale                     23              6                 0   \n",
       "4         Avondale                     23              6                 0   \n",
       "\n",
       "   NaloxoneDistribCount2mi                                           geometry  \\\n",
       "0                       15  POLYGON ((-84.5542808420776 39.1546574773712, ...   \n",
       "1                       15  POLYGON ((-84.5542808420776 39.1546574773712, ...   \n",
       "2                       15  POLYGON ((-84.5542808420776 39.1546574773712, ...   \n",
       "3                       15  POLYGON ((-84.5542808420776 39.1546574773712, ...   \n",
       "4                       15  POLYGON ((-84.5542808420776 39.1546574773712, ...   \n",
       "\n",
       "  year_month  EMS_Calls  \n",
       "0    2017-05         13  \n",
       "1    2017-06         10  \n",
       "2    2017-07          4  \n",
       "3    2017-08         10  \n",
       "4    2017-09          7  "
      ]
     },
     "execution_count": 6,
     "metadata": {},
     "output_type": "execute_result"
    }
   ],
   "source": [
    "df.head()"
   ]
  },
  {
   "cell_type": "markdown",
   "metadata": {},
   "source": [
    "#### Plot Histograms of Variables\n",
    "Note power curve in ems and skewed distribution"
   ]
  },
  {
   "cell_type": "code",
   "execution_count": 7,
   "metadata": {},
   "outputs": [
    {
     "data": {
      "text/plain": [
       "array([[<matplotlib.axes._subplots.AxesSubplot object at 0x1c1da04f98>,\n",
       "        <matplotlib.axes._subplots.AxesSubplot object at 0x1c1dd43e80>],\n",
       "       [<matplotlib.axes._subplots.AxesSubplot object at 0x1c1dd75438>,\n",
       "        <matplotlib.axes._subplots.AxesSubplot object at 0x1c1dd9d9b0>],\n",
       "       [<matplotlib.axes._subplots.AxesSubplot object at 0x1c1ddc4f28>,\n",
       "        <matplotlib.axes._subplots.AxesSubplot object at 0x1c1ddf64e0>]],\n",
       "      dtype=object)"
      ]
     },
     "execution_count": 7,
     "metadata": {},
     "output_type": "execute_result"
    },
    {
     "data": {
      "image/png": "[encoded data removed]",
      "text/plain": [
       "<Figure size 720x720 with 6 Axes>"
      ]
     },
     "metadata": {
      "needs_background": "light"
     },
     "output_type": "display_data"
    }
   ],
   "source": [
    "df.hist(figsize=(10,10))"
   ]
  },
  {
   "cell_type": "code",
   "execution_count": 8,
   "metadata": {},
   "outputs": [
    {
     "data": {
      "text/html": [
       "<div>\n",
       "<style scoped>\n",
       "    .dataframe tbody tr th:only-of-type {\n",
       "        vertical-align: middle;\n",
       "    }\n",
       "\n",
       "    .dataframe tbody tr th {\n",
       "        vertical-align: top;\n",
       "    }\n",
       "\n",
       "    .dataframe thead th {\n",
       "        text-align: right;\n",
       "    }\n",
       "</style>\n",
       "<table border=\"1\" class=\"dataframe\">\n",
       "  <thead>\n",
       "    <tr style=\"text-align: right;\">\n",
       "      <th></th>\n",
       "      <th>MedFacilitiesCount2mi</th>\n",
       "      <th>PharmCount2mi</th>\n",
       "      <th>DrugDropCount2mi</th>\n",
       "      <th>NaloxoneDistribCount2mi</th>\n",
       "      <th>EMS_Calls</th>\n",
       "    </tr>\n",
       "  </thead>\n",
       "  <tbody>\n",
       "    <tr>\n",
       "      <th>count</th>\n",
       "      <td>596.000000</td>\n",
       "      <td>596.000000</td>\n",
       "      <td>596.000000</td>\n",
       "      <td>596.000000</td>\n",
       "      <td>596.00000</td>\n",
       "    </tr>\n",
       "    <tr>\n",
       "      <th>mean</th>\n",
       "      <td>46.496644</td>\n",
       "      <td>10.463087</td>\n",
       "      <td>0.766779</td>\n",
       "      <td>10.523490</td>\n",
       "      <td>4.89094</td>\n",
       "    </tr>\n",
       "    <tr>\n",
       "      <th>std</th>\n",
       "      <td>33.867388</td>\n",
       "      <td>6.787060</td>\n",
       "      <td>1.078890</td>\n",
       "      <td>5.075012</td>\n",
       "      <td>5.28227</td>\n",
       "    </tr>\n",
       "    <tr>\n",
       "      <th>min</th>\n",
       "      <td>1.000000</td>\n",
       "      <td>0.000000</td>\n",
       "      <td>0.000000</td>\n",
       "      <td>0.000000</td>\n",
       "      <td>1.00000</td>\n",
       "    </tr>\n",
       "    <tr>\n",
       "      <th>25%</th>\n",
       "      <td>23.000000</td>\n",
       "      <td>5.000000</td>\n",
       "      <td>0.000000</td>\n",
       "      <td>6.000000</td>\n",
       "      <td>1.75000</td>\n",
       "    </tr>\n",
       "    <tr>\n",
       "      <th>50%</th>\n",
       "      <td>33.000000</td>\n",
       "      <td>8.000000</td>\n",
       "      <td>0.000000</td>\n",
       "      <td>12.000000</td>\n",
       "      <td>3.00000</td>\n",
       "    </tr>\n",
       "    <tr>\n",
       "      <th>75%</th>\n",
       "      <td>73.000000</td>\n",
       "      <td>15.000000</td>\n",
       "      <td>1.000000</td>\n",
       "      <td>15.000000</td>\n",
       "      <td>6.00000</td>\n",
       "    </tr>\n",
       "    <tr>\n",
       "      <th>max</th>\n",
       "      <td>115.000000</td>\n",
       "      <td>25.000000</td>\n",
       "      <td>4.000000</td>\n",
       "      <td>25.000000</td>\n",
       "      <td>37.00000</td>\n",
       "    </tr>\n",
       "  </tbody>\n",
       "</table>\n",
       "</div>"
      ],
      "text/plain": [
       "       MedFacilitiesCount2mi  PharmCount2mi  DrugDropCount2mi  \\\n",
       "count             596.000000     596.000000        596.000000   \n",
       "mean               46.496644      10.463087          0.766779   \n",
       "std                33.867388       6.787060          1.078890   \n",
       "min                 1.000000       0.000000          0.000000   \n",
       "25%                23.000000       5.000000          0.000000   \n",
       "50%                33.000000       8.000000          0.000000   \n",
       "75%                73.000000      15.000000          1.000000   \n",
       "max               115.000000      25.000000          4.000000   \n",
       "\n",
       "       NaloxoneDistribCount2mi  EMS_Calls  \n",
       "count               596.000000  596.00000  \n",
       "mean                 10.523490    4.89094  \n",
       "std                   5.075012    5.28227  \n",
       "min                   0.000000    1.00000  \n",
       "25%                   6.000000    1.75000  \n",
       "50%                  12.000000    3.00000  \n",
       "75%                  15.000000    6.00000  \n",
       "max                  25.000000   37.00000  "
      ]
     },
     "execution_count": 8,
     "metadata": {},
     "output_type": "execute_result"
    }
   ],
   "source": [
    "df.describe()"
   ]
  },
  {
   "cell_type": "code",
   "execution_count": 9,
   "metadata": {},
   "outputs": [
    {
     "data": {
      "text/plain": [
       "1     149\n",
       "2     102\n",
       "3      83\n",
       "4      55\n",
       "5      44\n",
       "6      29\n",
       "7      26\n",
       "8      18\n",
       "11     11\n",
       "12     10\n",
       "10      9\n",
       "13      9\n",
       "9       8\n",
       "14      7\n",
       "15      6\n",
       "16      4\n",
       "19      4\n",
       "18      3\n",
       "20      3\n",
       "28      3\n",
       "21      2\n",
       "22      2\n",
       "24      2\n",
       "31      1\n",
       "17      1\n",
       "25      1\n",
       "26      1\n",
       "27      1\n",
       "30      1\n",
       "37      1\n",
       "Name: EMS_Calls, dtype: int64"
      ]
     },
     "execution_count": 9,
     "metadata": {},
     "output_type": "execute_result"
    }
   ],
   "source": [
    "df.EMS_Calls.value_counts()"
   ]
  },
  {
   "cell_type": "code",
   "execution_count": 10,
   "metadata": {},
   "outputs": [
    {
     "name": "stderr",
     "output_type": "stream",
     "text": [
      "/Users/drewgobbi/anaconda3/lib/python3.7/site-packages/ipykernel_launcher.py:4: SettingWithCopyWarning: \n",
      "A value is trying to be set on a copy of a slice from a DataFrame\n",
      "\n",
      "See the caveats in the documentation: http://pandas.pydata.org/pandas-docs/stable/indexing.html#indexing-view-versus-copy\n",
      "  after removing the cwd from sys.path.\n"
     ]
    }
   ],
   "source": [
    "df['ems_flag'] = 0 \n",
    "for i in range(len(df)):\n",
    "    if df['EMS_Calls'][i] >np.median(df['EMS_Calls']):\n",
    "        df['ems_flag'][i] =1"
   ]
  },
  {
   "cell_type": "code",
   "execution_count": 11,
   "metadata": {},
   "outputs": [
    {
     "data": {
      "text/plain": [
       "(array([334.,   0.,   0.,   0.,   0.,   0.,   0.,   0.,   0., 262.]),\n",
       " array([0. , 0.1, 0.2, 0.3, 0.4, 0.5, 0.6, 0.7, 0.8, 0.9, 1. ]),\n",
       " <a list of 10 Patch objects>)"
      ]
     },
     "execution_count": 11,
     "metadata": {},
     "output_type": "execute_result"
    },
    {
     "data": {
      "image/png": "[encoded data removed]",
      "text/plain": [
       "<Figure size 432x288 with 1 Axes>"
      ]
     },
     "metadata": {
      "needs_background": "light"
     },
     "output_type": "display_data"
    }
   ],
   "source": [
    "#classess look more or less balanced\n",
    "plt.hist(df.ems_flag)"
   ]
  },
  {
   "cell_type": "code",
   "execution_count": 12,
   "metadata": {},
   "outputs": [],
   "source": [
    "f = 'ems_flag ~ MedFacilitiesCount2mi + PharmCount2mi + DrugDropCount2mi + NaloxoneDistribCount2mi'\n",
    "y, X = patsy.dmatrices(f, df, return_type='dataframe')"
   ]
  },
  {
   "cell_type": "code",
   "execution_count": 13,
   "metadata": {},
   "outputs": [
    {
     "name": "stdout",
     "output_type": "stream",
     "text": [
      "Optimization terminated successfully.\n",
      "         Current function value: 0.683381\n",
      "         Iterations 4\n"
     ]
    },
    {
     "data": {
      "text/html": [
       "<table class=\"simpletable\">\n",
       "<caption>Logit Regression Results</caption>\n",
       "<tr>\n",
       "  <th>Dep. Variable:</th>     <td>ems_flag</td>     <th>  No. Observations:  </th>  <td>   596</td> \n",
       "</tr>\n",
       "<tr>\n",
       "  <th>Model:</th>               <td>Logit</td>      <th>  Df Residuals:      </th>  <td>   591</td> \n",
       "</tr>\n",
       "<tr>\n",
       "  <th>Method:</th>               <td>MLE</td>       <th>  Df Model:          </th>  <td>     4</td> \n",
       "</tr>\n",
       "<tr>\n",
       "  <th>Date:</th>          <td>Thu, 21 Nov 2019</td> <th>  Pseudo R-squ.:     </th> <td>0.003574</td>\n",
       "</tr>\n",
       "<tr>\n",
       "  <th>Time:</th>              <td>18:43:26</td>     <th>  Log-Likelihood:    </th> <td> -407.30</td>\n",
       "</tr>\n",
       "<tr>\n",
       "  <th>converged:</th>           <td>True</td>       <th>  LL-Null:           </th> <td> -408.76</td>\n",
       "</tr>\n",
       "<tr>\n",
       "  <th> </th>                      <td> </td>        <th>  LLR p-value:       </th>  <td>0.5710</td> \n",
       "</tr>\n",
       "</table>\n",
       "<table class=\"simpletable\">\n",
       "<tr>\n",
       "             <td></td>                <th>coef</th>     <th>std err</th>      <th>z</th>      <th>P>|z|</th>  <th>[0.025</th>    <th>0.975]</th>  \n",
       "</tr>\n",
       "<tr>\n",
       "  <th>Intercept</th>               <td>   -0.2750</td> <td>    0.193</td> <td>   -1.422</td> <td> 0.155</td> <td>   -0.654</td> <td>    0.104</td>\n",
       "</tr>\n",
       "<tr>\n",
       "  <th>MedFacilitiesCount2mi</th>   <td>    0.0075</td> <td>    0.006</td> <td>    1.363</td> <td> 0.173</td> <td>   -0.003</td> <td>    0.018</td>\n",
       "</tr>\n",
       "<tr>\n",
       "  <th>PharmCount2mi</th>           <td>   -0.0131</td> <td>    0.030</td> <td>   -0.435</td> <td> 0.663</td> <td>   -0.072</td> <td>    0.046</td>\n",
       "</tr>\n",
       "<tr>\n",
       "  <th>DrugDropCount2mi</th>        <td>   -0.0372</td> <td>    0.111</td> <td>   -0.336</td> <td> 0.737</td> <td>   -0.255</td> <td>    0.180</td>\n",
       "</tr>\n",
       "<tr>\n",
       "  <th>NaloxoneDistribCount2mi</th> <td>   -0.0144</td> <td>    0.022</td> <td>   -0.664</td> <td> 0.507</td> <td>   -0.057</td> <td>    0.028</td>\n",
       "</tr>\n",
       "</table>"
      ],
      "text/plain": [
       "<class 'statsmodels.iolib.summary.Summary'>\n",
       "\"\"\"\n",
       "                           Logit Regression Results                           \n",
       "==============================================================================\n",
       "Dep. Variable:               ems_flag   No. Observations:                  596\n",
       "Model:                          Logit   Df Residuals:                      591\n",
       "Method:                           MLE   Df Model:                            4\n",
       "Date:                Thu, 21 Nov 2019   Pseudo R-squ.:                0.003574\n",
       "Time:                        18:43:26   Log-Likelihood:                -407.30\n",
       "converged:                       True   LL-Null:                       -408.76\n",
       "                                        LLR p-value:                    0.5710\n",
       "===========================================================================================\n",
       "                              coef    std err          z      P>|z|      [0.025      0.975]\n",
       "-------------------------------------------------------------------------------------------\n",
       "Intercept                  -0.2750      0.193     -1.422      0.155      -0.654       0.104\n",
       "MedFacilitiesCount2mi       0.0075      0.006      1.363      0.173      -0.003       0.018\n",
       "PharmCount2mi              -0.0131      0.030     -0.435      0.663      -0.072       0.046\n",
       "DrugDropCount2mi           -0.0372      0.111     -0.336      0.737      -0.255       0.180\n",
       "NaloxoneDistribCount2mi    -0.0144      0.022     -0.664      0.507      -0.057       0.028\n",
       "===========================================================================================\n",
       "\"\"\""
      ]
     },
     "execution_count": 13,
     "metadata": {},
     "output_type": "execute_result"
    }
   ],
   "source": [
    "res = sm.Logit(y, X).fit()\n",
    "res.summary()"
   ]
  },
  {
   "cell_type": "code",
   "execution_count": 14,
   "metadata": {},
   "outputs": [
    {
     "data": {
      "text/plain": [
       "Intercept                  0.759600\n",
       "MedFacilitiesCount2mi      1.007529\n",
       "PharmCount2mi              0.986945\n",
       "DrugDropCount2mi           0.963449\n",
       "NaloxoneDistribCount2mi    0.985700\n",
       "dtype: float64"
      ]
     },
     "execution_count": 14,
     "metadata": {},
     "output_type": "execute_result"
    }
   ],
   "source": [
    "### Turn logit params back into odds ratios for intepretation\n",
    "np.exp(res.params)"
   ]
  },
  {
   "cell_type": "code",
   "execution_count": 15,
   "metadata": {},
   "outputs": [
    {
     "data": {
      "text/html": [
       "<div>\n",
       "<style scoped>\n",
       "    .dataframe tbody tr th:only-of-type {\n",
       "        vertical-align: middle;\n",
       "    }\n",
       "\n",
       "    .dataframe tbody tr th {\n",
       "        vertical-align: top;\n",
       "    }\n",
       "\n",
       "    .dataframe thead th {\n",
       "        text-align: right;\n",
       "    }\n",
       "</style>\n",
       "<table border=\"1\" class=\"dataframe\">\n",
       "  <thead>\n",
       "    <tr style=\"text-align: right;\">\n",
       "      <th></th>\n",
       "      <th>NeighborhoodName</th>\n",
       "      <th>MedFacilitiesCount2mi</th>\n",
       "      <th>PharmCount2mi</th>\n",
       "      <th>DrugDropCount2mi</th>\n",
       "      <th>NaloxoneDistribCount2mi</th>\n",
       "      <th>geometry</th>\n",
       "      <th>year_month</th>\n",
       "      <th>EMS_Calls</th>\n",
       "      <th>ems_flag</th>\n",
       "    </tr>\n",
       "  </thead>\n",
       "  <tbody>\n",
       "    <tr>\n",
       "      <th>0</th>\n",
       "      <td>Avondale</td>\n",
       "      <td>23</td>\n",
       "      <td>6</td>\n",
       "      <td>0</td>\n",
       "      <td>15</td>\n",
       "      <td>POLYGON ((-84.5542808420776 39.1546574773712, ...</td>\n",
       "      <td>2017-05</td>\n",
       "      <td>13</td>\n",
       "      <td>1</td>\n",
       "    </tr>\n",
       "    <tr>\n",
       "      <th>1</th>\n",
       "      <td>Avondale</td>\n",
       "      <td>23</td>\n",
       "      <td>6</td>\n",
       "      <td>0</td>\n",
       "      <td>15</td>\n",
       "      <td>POLYGON ((-84.5542808420776 39.1546574773712, ...</td>\n",
       "      <td>2017-06</td>\n",
       "      <td>10</td>\n",
       "      <td>1</td>\n",
       "    </tr>\n",
       "    <tr>\n",
       "      <th>2</th>\n",
       "      <td>Avondale</td>\n",
       "      <td>23</td>\n",
       "      <td>6</td>\n",
       "      <td>0</td>\n",
       "      <td>15</td>\n",
       "      <td>POLYGON ((-84.5542808420776 39.1546574773712, ...</td>\n",
       "      <td>2017-07</td>\n",
       "      <td>4</td>\n",
       "      <td>1</td>\n",
       "    </tr>\n",
       "    <tr>\n",
       "      <th>3</th>\n",
       "      <td>Avondale</td>\n",
       "      <td>23</td>\n",
       "      <td>6</td>\n",
       "      <td>0</td>\n",
       "      <td>15</td>\n",
       "      <td>POLYGON ((-84.5542808420776 39.1546574773712, ...</td>\n",
       "      <td>2017-08</td>\n",
       "      <td>10</td>\n",
       "      <td>1</td>\n",
       "    </tr>\n",
       "    <tr>\n",
       "      <th>4</th>\n",
       "      <td>Avondale</td>\n",
       "      <td>23</td>\n",
       "      <td>6</td>\n",
       "      <td>0</td>\n",
       "      <td>15</td>\n",
       "      <td>POLYGON ((-84.5542808420776 39.1546574773712, ...</td>\n",
       "      <td>2017-09</td>\n",
       "      <td>7</td>\n",
       "      <td>1</td>\n",
       "    </tr>\n",
       "  </tbody>\n",
       "</table>\n",
       "</div>"
      ],
      "text/plain": [
       "  NeighborhoodName  MedFacilitiesCount2mi  PharmCount2mi  DrugDropCount2mi  \\\n",
       "0         Avondale                     23              6                 0   \n",
       "1         Avondale                     23              6                 0   \n",
       "2         Avondale                     23              6                 0   \n",
       "3         Avondale                     23              6                 0   \n",
       "4         Avondale                     23              6                 0   \n",
       "\n",
       "   NaloxoneDistribCount2mi                                           geometry  \\\n",
       "0                       15  POLYGON ((-84.5542808420776 39.1546574773712, ...   \n",
       "1                       15  POLYGON ((-84.5542808420776 39.1546574773712, ...   \n",
       "2                       15  POLYGON ((-84.5542808420776 39.1546574773712, ...   \n",
       "3                       15  POLYGON ((-84.5542808420776 39.1546574773712, ...   \n",
       "4                       15  POLYGON ((-84.5542808420776 39.1546574773712, ...   \n",
       "\n",
       "  year_month  EMS_Calls  ems_flag  \n",
       "0    2017-05         13         1  \n",
       "1    2017-06         10         1  \n",
       "2    2017-07          4         1  \n",
       "3    2017-08         10         1  \n",
       "4    2017-09          7         1  "
      ]
     },
     "execution_count": 15,
     "metadata": {},
     "output_type": "execute_result"
    }
   ],
   "source": [
    "df.head()"
   ]
  },
  {
   "cell_type": "code",
   "execution_count": 16,
   "metadata": {},
   "outputs": [],
   "source": [
    "sumry = df.filter(['ems_flag', 'MedFacilitiesCount2mi', 'PharmCount2mi', 'DrugDropCount2mi','NaloxoneDistribCount2mi'])"
   ]
  },
  {
   "cell_type": "code",
   "execution_count": 17,
   "metadata": {},
   "outputs": [
    {
     "data": {
      "text/html": [
       "<div>\n",
       "<style scoped>\n",
       "    .dataframe tbody tr th:only-of-type {\n",
       "        vertical-align: middle;\n",
       "    }\n",
       "\n",
       "    .dataframe tbody tr th {\n",
       "        vertical-align: top;\n",
       "    }\n",
       "\n",
       "    .dataframe thead th {\n",
       "        text-align: right;\n",
       "    }\n",
       "</style>\n",
       "<table border=\"1\" class=\"dataframe\">\n",
       "  <thead>\n",
       "    <tr style=\"text-align: right;\">\n",
       "      <th></th>\n",
       "      <th>ems_flag</th>\n",
       "      <th>MedFacilitiesCount2mi</th>\n",
       "      <th>PharmCount2mi</th>\n",
       "      <th>DrugDropCount2mi</th>\n",
       "      <th>NaloxoneDistribCount2mi</th>\n",
       "    </tr>\n",
       "  </thead>\n",
       "  <tbody>\n",
       "    <tr>\n",
       "      <th>0</th>\n",
       "      <td>1</td>\n",
       "      <td>23</td>\n",
       "      <td>6</td>\n",
       "      <td>0</td>\n",
       "      <td>15</td>\n",
       "    </tr>\n",
       "    <tr>\n",
       "      <th>1</th>\n",
       "      <td>1</td>\n",
       "      <td>23</td>\n",
       "      <td>6</td>\n",
       "      <td>0</td>\n",
       "      <td>15</td>\n",
       "    </tr>\n",
       "    <tr>\n",
       "      <th>2</th>\n",
       "      <td>1</td>\n",
       "      <td>23</td>\n",
       "      <td>6</td>\n",
       "      <td>0</td>\n",
       "      <td>15</td>\n",
       "    </tr>\n",
       "    <tr>\n",
       "      <th>3</th>\n",
       "      <td>1</td>\n",
       "      <td>23</td>\n",
       "      <td>6</td>\n",
       "      <td>0</td>\n",
       "      <td>15</td>\n",
       "    </tr>\n",
       "    <tr>\n",
       "      <th>4</th>\n",
       "      <td>1</td>\n",
       "      <td>23</td>\n",
       "      <td>6</td>\n",
       "      <td>0</td>\n",
       "      <td>15</td>\n",
       "    </tr>\n",
       "  </tbody>\n",
       "</table>\n",
       "</div>"
      ],
      "text/plain": [
       "   ems_flag  MedFacilitiesCount2mi  PharmCount2mi  DrugDropCount2mi  \\\n",
       "0         1                     23              6                 0   \n",
       "1         1                     23              6                 0   \n",
       "2         1                     23              6                 0   \n",
       "3         1                     23              6                 0   \n",
       "4         1                     23              6                 0   \n",
       "\n",
       "   NaloxoneDistribCount2mi  \n",
       "0                       15  \n",
       "1                       15  \n",
       "2                       15  \n",
       "3                       15  \n",
       "4                       15  "
      ]
     },
     "execution_count": 17,
     "metadata": {},
     "output_type": "execute_result"
    }
   ],
   "source": [
    "sumry.head()"
   ]
  },
  {
   "cell_type": "code",
   "execution_count": null,
   "metadata": {},
   "outputs": [],
   "source": []
  }
 ],
 "metadata": {
  "kernelspec": {
   "display_name": "Python 3",
   "language": "python",
   "name": "python3"
  },
  "language_info": {
   "codemirror_mode": {
    "name": "ipython",
    "version": 3
   },
   "file_extension": ".py",
   "mimetype": "text/x-python",
   "name": "python",
   "nbconvert_exporter": "python",
   "pygments_lexer": "ipython3",
   "version": "3.7.3"
  }
 },
 "nbformat": 4,
 "nbformat_minor": 2
}
